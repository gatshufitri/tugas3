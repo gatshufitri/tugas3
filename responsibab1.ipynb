{
 "cells": [
  {
   "cell_type": "code",
   "execution_count": 11,
   "metadata": {},
   "outputs": [
    {
     "name": "stdout",
     "output_type": "stream",
     "text": [
      "10\n",
      "<class 'int'>\n",
      "10.0\n",
      "<class 'float'>\n"
     ]
    }
   ],
   "source": [
    "\n",
    "#contoh komentar\n",
    "\"\"\"\n",
    "blablablablablablablablabla\n",
    "blablablablablablablabl\n",
    "blablablalalabala\n",
    "\"\"\"\n",
    "a = (10)\n",
    "print(a)\n",
    "print(type(a))\n",
    "a = float(a)\n",
    "print(a)\n",
    "print(type(a))\n"
   ]
  },
  {
   "cell_type": "code",
   "execution_count": 38,
   "metadata": {},
   "outputs": [
    {
     "name": "stdout",
     "output_type": "stream",
     "text": [
      "Program Luas Segitiga\n",
      "Luas Segitiga :  25\n",
      "A = 5\n",
      "B = 10\n",
      "Operator Perbandingan\n",
      "A == B: False\n",
      "A != B: True\n",
      "A < B : True\n",
      "A > B : False\n",
      "A >= B :  False\n",
      "A <= B: True\n",
      "operator penugasan\n",
      "A = B : 10\n",
      "A += B :  20\n",
      "A -= B : 10\n",
      "A *= B: 100\n",
      "A %= B: 0\n",
      "A // B : 0\n",
      "operator bitwise\n",
      "A & B: 0\n",
      "A | B: 10\n",
      "A ^ B:  10\n",
      "-A : 0\n",
      "A<<B: 0\n",
      "A>>B: 0\n"
     ]
    }
   ],
   "source": [
    "print(\"Program Luas Segitiga\")\n",
    "a = int(input(\"Masukan Alas Segitiga : \"))\n",
    "b = int(input(\"Masukan Tinggi Segitiga : \"))\n",
    "c = int(1/2*a*b)\n",
    "print(\"Luas Segitiga : \",c)\n",
    "print(\"A =\",a)\n",
    "print(\"B =\",b)\n",
    "print(\"Operator Perbandingan\")\n",
    "print(\"A == B:\",a == b)\n",
    "print(\"A != B:\",a != b)\n",
    "print(\"A < B :\",a < b)\n",
    "print(\"A > B :\",a > b)\n",
    "print(\"A >= B : \",a >= b)\n",
    "print(\"A <= B:\",a <= b)\n",
    "\n",
    "print(\"operator penugasan\")\n",
    "a = b\n",
    "print(\"A = B :\",a)\n",
    "a += b\n",
    "print(\"A += B : \",a)\n",
    "a -= b\n",
    "print(\"A -= B :\",a)\n",
    "a *= b\n",
    "print(\"A *= B:\",a)\n",
    "a %= b\n",
    "print(\"A %= B:\",a)\n",
    "a //= b\n",
    "print(\"A // B :\",a)\n",
    "\n",
    "print(\"operator bitwise\")\n",
    "print(\"A & B:\",a&b)\n",
    "print(\"A | B:\",a|b)\n",
    "print(\"A ^ B: \",a^b)\n",
    "print(\"-A :\",-a)\n",
    "print(\"A<<B:\",a<<b)\n",
    "print(\"A>>B:\",a>>b)\n",
    "\n"
   ]
  }
 ],
 "metadata": {
  "kernelspec": {
   "display_name": "Python 3",
   "language": "python",
   "name": "python3"
  },
  "language_info": {
   "codemirror_mode": {
    "name": "ipython",
    "version": 3
   },
   "file_extension": ".py",
   "mimetype": "text/x-python",
   "name": "python",
   "nbconvert_exporter": "python",
   "pygments_lexer": "ipython3",
   "version": "3.12.2"
  }
 },
 "nbformat": 4,
 "nbformat_minor": 2
}
