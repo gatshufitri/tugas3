{
 "cells": [
  {
   "cell_type": "code",
   "execution_count": 1,
   "metadata": {},
   "outputs": [
    {
     "name": "stdout",
     "output_type": "stream",
     "text": [
      "     gender race_ethnicity parental_level_of_education         lunch  \\\n",
      "0      male        group A          associate's degree  free/reduced   \n",
      "1      male        group B                some college  free/reduced   \n",
      "2      male        group D                 high school  free/reduced   \n",
      "3    female        group B                 high school  free/reduced   \n",
      "4    female        group B            some high school  free/reduced   \n",
      "..      ...            ...                         ...           ...   \n",
      "350  female        group D          associate's degree  free/reduced   \n",
      "351  female        group D           bachelor's degree  free/reduced   \n",
      "352    male        group C                 high school  free/reduced   \n",
      "353  female        group C                 high school  free/reduced   \n",
      "354  female        group D                some college  free/reduced   \n",
      "\n",
      "    test_preparation_course  math_score  reading_score  writing_score  \n",
      "0                      none          47             57             44  \n",
      "1                      none          40             43             39  \n",
      "2                 completed          64             64             67  \n",
      "3                      none          38             60             50  \n",
      "4                      none          18             32             28  \n",
      "..                      ...         ...            ...            ...  \n",
      "350                    none          55             76             76  \n",
      "351                    none          62             72             74  \n",
      "352                    none          62             55             55  \n",
      "353               completed          59             71             65  \n",
      "354                    none          77             86             86  \n",
      "\n",
      "[355 rows x 8 columns]\n"
     ]
    }
   ],
   "source": [
    "import pandas as pd\n",
    "df = pd.read_csv('study_performance.csv')\n",
    "data = df.drop(df[df['lunch']== 'standard'].index)\n",
    "print(data.reset_index(drop= True))"
   ]
  },
  {
   "cell_type": "code",
   "execution_count": 2,
   "metadata": {},
   "outputs": [
    {
     "name": "stdout",
     "output_type": "stream",
     "text": [
      "gender                                       male\n",
      "race_ethnicity                            group E\n",
      "parental_level_of_education    associate's degree\n",
      "lunch                                free/reduced\n",
      "test_preparation_course                 completed\n",
      "math_score                                    100\n",
      "reading_score                                 100\n",
      "writing_score                                  93\n",
      "Name: 149, dtype: object\n"
     ]
    }
   ],
   "source": [
    "import pandas as pd\n",
    "df = pd.read_csv('study_performance.csv')\n",
    "maks = df['math_score'].max()\n",
    "data = (df.loc[df['math_score'] == maks])\n",
    "print(data.iloc[0])"
   ]
  },
  {
   "cell_type": "code",
   "execution_count": 3,
   "metadata": {},
   "outputs": [
    {
     "name": "stdout",
     "output_type": "stream",
     "text": [
      "gender                                   female\n",
      "race_ethnicity                          group C\n",
      "parental_level_of_education    some high school\n",
      "lunch                              free/reduced\n",
      "test_preparation_course                    none\n",
      "math_score                                    0\n",
      "reading_score                                17\n",
      "writing_score                                10\n",
      "Name: 59, dtype: object\n"
     ]
    }
   ],
   "source": [
    "import pandas as pd\n",
    "df = pd.read_csv('study_performance.csv')\n",
    "minim = df['math_score'].min()\n",
    "data = (df.loc[df['math_score'] == minim])\n",
    "print(data.iloc[0])"
   ]
  }
 ],
 "metadata": {
  "kernelspec": {
   "display_name": "Python 3",
   "language": "python",
   "name": "python3"
  },
  "language_info": {
   "codemirror_mode": {
    "name": "ipython",
    "version": 3
   },
   "file_extension": ".py",
   "mimetype": "text/x-python",
   "name": "python",
   "nbconvert_exporter": "python",
   "pygments_lexer": "ipython3",
   "version": "3.12.2"
  }
 },
 "nbformat": 4,
 "nbformat_minor": 2
}
