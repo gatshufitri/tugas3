{
 "cells": [
  {
   "cell_type": "code",
   "execution_count": 12,
   "metadata": {},
   "outputs": [
    {
     "name": "stdout",
     "output_type": "stream",
     "text": [
      "1,3,5,7,9,11,13,15,17,19,21,"
     ]
    }
   ],
   "source": [
    "#SOAL 1\n",
    "for x in range (22) :\n",
    "    if x % 2 != 0 :\n",
    "        print(x, end=',')"
   ]
  },
  {
   "cell_type": "code",
   "execution_count": 2,
   "metadata": {},
   "outputs": [
    {
     "name": "stdout",
     "output_type": "stream",
     "text": [
      "['Selamat', 'anda', 'berhasil', 'mengerjakan', 'soal', 'ini']\n"
     ]
    }
   ],
   "source": [
    "#SOAL 2\n",
    "list1 = ['Se', 'an', 'ber', 'menger', 'so', 'in']\n",
    "list2 = ['lamat', 'da', 'hasil', 'jakan', 'al', 'i']\n",
    "tampil = []\n",
    "for i in range(len(list1)):\n",
    "    tampil.append(list1[i] + list2[i])\n",
    "print(tampil)\n"
   ]
  },
  {
   "cell_type": "code",
   "execution_count": 3,
   "metadata": {},
   "outputs": [
    {
     "name": "stdout",
     "output_type": "stream",
     "text": [
      "Saya telah mengerjakan dan menyelesaikan semua soal ujian\n"
     ]
    }
   ],
   "source": [
    "#SOAL 3\n",
    "kalimat = \"Hari ini saya sedang mengerjakan Ujian Daspro\"\n",
    "#kalimat lama diubah menjadi kalimat batu\n",
    "manipulasi= kalimat.replace(\"Hari ini saya sedang mengerjakan Ujian Daspro\", \"Saya telah mengerjakan dan menyelesaikan semua soal ujian\")\n",
    "kalimat_baru = manipulasi\n",
    "print(kalimat_baru)"
   ]
  },
  {
   "cell_type": "code",
   "execution_count": 4,
   "metadata": {},
   "outputs": [
    {
     "name": "stdout",
     "output_type": "stream",
     "text": [
      "Hasil Binner 3 adalah 0b1100 dengan nilai bolean True\n"
     ]
    }
   ],
   "source": [
    "#SOAL 4\n",
    "nilai1 = 3\n",
    "nilai2 = 2\n",
    "operator1 = nilai1 << nilai2\n",
    "hasil1 = bin(operator1)\n",
    "hasil3 = bool(operator1)\n",
    "print(f\"Hasil Binner {nilai1} adalah {hasil1} dengan nilai bolean {hasil3}\")"
   ]
  },
  {
   "cell_type": "code",
   "execution_count": 6,
   "metadata": {},
   "outputs": [
    {
     "name": "stdout",
     "output_type": "stream",
     "text": [
      "--------- Selamat Datang ---------\n",
      "Pilihan Konversi:\n",
      "1. Binner\n",
      "2. Oktal\n",
      "3. Desimal\n",
      "4. Hexdesimal\n",
      "5. Tampilkan Smua\n",
      "Konversi 1 Ke Biner =  0b1100\n"
     ]
    }
   ],
   "source": [
    "#Soal 5\n",
    "print(\"--------- Selamat Datang ---------\")\n",
    "print('''Pilihan Konversi:\n",
    "1. Binner\n",
    "2. Oktal\n",
    "3. Desimal\n",
    "4. Hexdesimal\n",
    "5. Tampilkan Smua''')\n",
    "angka=int(input (\"Masukkan Pilihan 1/2/3/4/5: \"))\n",
    "angka1= int(input(\"Masukkan Angka yang ingin di konversi: \"))\n",
    "if angka == 1:\n",
    "    hasil = bin(angka1)\n",
    "    print(f\"Konversi {angka} Ke Biner = \",hasil1)\n",
    "elif angka == 2:\n",
    "    hasil = oct(angka1)\n",
    "    print(f\"Konversi {angka} Ke Oktal = \",hasil1)\n",
    "elif angka == 3:\n",
    "    hasil =int(angka1)\n",
    "    print(f\"Konversi {angka} Ke Decimal = \",hasil1)\n",
    "elif angka == 4:\n",
    "    hasil = hex(angka1)\n",
    "    print(f\"Konversi {angka} Ke Hexadesimal = \",hasil1)\n",
    "elif angka == 5:\n",
    "    hasil1 = oct(angka1)\n",
    "    hasil2= bin(angka1)\n",
    "    hasil3= int(angka1)\n",
    "    hasil4 = hex(angka1)\n",
    "    print(f'''\\nHasil:\n",
    "Konversi {angka} Ke Binner = {hasil1}\n",
    "Konversi {angka} Ke Oktal = {hasil2}\n",
    "Konversi {angka} Ke Decimal = {hasil3}\n",
    "Konversi {angka} Ke Hexadesimal = {hasil4}''')\n",
    "else:\n",
    "    print(f\"{angka} adalah angka yang tidak ada dalam menu pilihan\")\n"
   ]
  },
  {
   "cell_type": "code",
   "execution_count": 7,
   "metadata": {},
   "outputs": [
    {
     "name": "stdout",
     "output_type": "stream",
     "text": [
      "*  \n",
      "*  *  \n",
      "*  *  *  \n",
      "*  *  *  *  \n",
      "*  *  *  *  *  \n",
      "*  *  *  *  \n",
      "*  *  *  \n",
      "*  *  \n",
      "*  \n"
     ]
    }
   ],
   "source": [
    "#SOAL 6\n",
    "def tampilkan_pola(des):\n",
    "    for i in range(1, des + 1):\n",
    "        for j in range(1, i + 1):\n",
    "            print(\"*\", end=\"  \")\n",
    "        print()\n",
    "    for i in range(des - 1, 0, -1):\n",
    "        for j in range(1, i + 1):\n",
    "            print(\"*\", end=\"  \")\n",
    "        print()\n",
    "baris=5\n",
    "tampilkan_pola(baris)\n",
    "\n"
   ]
  },
  {
   "cell_type": "code",
   "execution_count": 8,
   "metadata": {},
   "outputs": [
    {
     "name": "stdout",
     "output_type": "stream",
     "text": [
      "Nama            : gatsuh\n",
      "Usia            : 19 Tahun\n",
      "Tinggi Badan    : 175.0 Cm\n",
      "Berat Badan     : 55.0 Kg\n",
      "\n"
     ]
    }
   ],
   "source": [
    "#SOAL 7\n",
    "nama=input(\"Masukkan Nama Anda: \")\n",
    "umur=input(\"Masukkan Usia Anda: \")\n",
    "tb =float(input(\"Masukkan Tinggi Badan Anda: \"))\n",
    "bb =float(input(\"Masukkan Berat Badan Anda: \"))\n",
    "#Cetak Hasil\n",
    "print(f'''Nama            : {nama}\n",
    "Usia            : {umur} Tahun\n",
    "Tinggi Badan    : {tb} Cm\n",
    "Berat Badan     : {bb} Kg\\n''')"
   ]
  },
  {
   "cell_type": "code",
   "execution_count": 9,
   "metadata": {},
   "outputs": [
    {
     "name": "stdout",
     "output_type": "stream",
     "text": [
      "Angka  : 10\n",
      "Angka  : 7\n",
      "Angka  : 20\n",
      "Angka  : 50\n",
      "Angka  : 49\n",
      "Angka  : 22\n",
      "Angka  : 44\n"
     ]
    }
   ],
   "source": [
    "#SOAL 8\n",
    "apes = [10, 7, 20, 50, 49, 22, 44]\n",
    "for caesar in apes:\n",
    "    print (f\"Angka  : {caesar}\")"
   ]
  },
  {
   "cell_type": "code",
   "execution_count": 10,
   "metadata": {},
   "outputs": [
    {
     "name": "stdout",
     "output_type": "stream",
     "text": [
      "Menu Pilihan :\n",
      "1. Penjumlahan\n",
      "2. Pengurangan\n",
      "3. Perkalian\n",
      "4. Pembagian\n",
      "5. Modulus\n",
      "Hasil dari 10 - 10 = 0\n"
     ]
    }
   ],
   "source": [
    "def penjumlahan(a, b) :\n",
    "    hasil= (a + b)\n",
    "    print(f\"Hasil Dari {a} + {b} = {hasil} \")\n",
    "\n",
    "def pengurangan(a, b) :\n",
    "    hasil = (a - b)\n",
    "    print(f\"Hasil dari {a} - {b} = {hasil}\")\n",
    "\n",
    "def perkalian(a, b) :\n",
    "    hasil = (a * b)\n",
    "    print(f\"Hasil dari {a} X {b} = {hasil}\")\n",
    "\n",
    "def pembagian(a, b) :\n",
    "    hasil = (a / b)\n",
    "    print(f\"Hasil dari {a} : {b} = {hasil}\")\n",
    "\n",
    "def modulus(a, b) :\n",
    "    hasil = (a % b)\n",
    "    print(f\"Hasil dari {a} % {b}\")\n",
    "\n",
    "a = int(input(\"Masukkan Nilai A : \"))\n",
    "b = int(input(\"Masukkan Nilai B: \"))\n",
    "\n",
    "print ('''Menu Pilihan :\n",
    "1. Penjumlahan\n",
    "2. Pengurangan\n",
    "3. Perkalian\n",
    "4. Pembagian\n",
    "5. Modulus''')\n",
    "\n",
    "pilihan= int(input (\"Masukkan Pilihan 1/2/3/4/5 : \"))\n",
    "if pilihan == 1: \n",
    "    penjumlahan (a, b)\n",
    "elif pilihan == 2:\n",
    "    pengurangan (a, b)\n",
    "elif pilihan == 3:\n",
    "    perkalian (a, b)\n",
    "elif pilihan == 4:\n",
    "    pembagian (a, b)\n",
    "elif pilihan == 5:\n",
    "    modulus (a, b)\n",
    "else:\n",
    "    print(\"Tidak Valid\")"
   ]
  },
  {
   "cell_type": "code",
   "execution_count": 11,
   "metadata": {},
   "outputs": [
    {
     "name": "stdout",
     "output_type": "stream",
     "text": [
      "10\n",
      "20\n",
      "30\n",
      "40\n",
      "50\n",
      "60\n"
     ]
    }
   ],
   "source": [
    "#SOAL 10\n",
    "def sorts(*f):\n",
    "    gunners = (f)\n",
    "    for arteta in gunners:\n",
    "        print(arteta)\n",
    "\n",
    "sorts(10, 20, 30)\n",
    "sorts(40, 50, 60)\n"
   ]
  }
 ],
 "metadata": {
  "kernelspec": {
   "display_name": "Python 3",
   "language": "python",
   "name": "python3"
  },
  "language_info": {
   "codemirror_mode": {
    "name": "ipython",
    "version": 3
   },
   "file_extension": ".py",
   "mimetype": "text/x-python",
   "name": "python",
   "nbconvert_exporter": "python",
   "pygments_lexer": "ipython3",
   "version": "3.12.2"
  }
 },
 "nbformat": 4,
 "nbformat_minor": 2
}
