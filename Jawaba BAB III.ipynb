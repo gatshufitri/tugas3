{
 "cells": [
  {
   "cell_type": "code",
   "execution_count": 108,
   "metadata": {},
   "outputs": [
    {
     "name": "stdout",
     "output_type": "stream",
     "text": [
      "Siswa urutan ke-1 adalah female\n"
     ]
    }
   ],
   "source": [
    "\n",
    "# Bab 3 No 1\n",
    "import pandas as pd\n",
    "data = pd.read_csv('study_performance.csv')\n",
    "jenis_kelamin_pertama = data.loc[0,'gender']\n",
    "\n",
    "if jenis_kelamin_pertama == 'male':\n",
    "    print(\"Siswa urutan ke-1 adalah male\")\n",
    "elif jenis_kelamin_pertama == 'female':\n",
    "    print(\"Siswa urutan ke-1 adalah female\")\n",
    "else:\n",
    "    print(\"Jenis kelamin siswa ke-1 tidak diketahui.\")\n"
   ]
  },
  {
   "cell_type": "code",
   "execution_count": 109,
   "metadata": {},
   "outputs": [
    {
     "name": "stdout",
     "output_type": "stream",
     "text": [
      "HASIL ANALISA READING_SCORE DAN WRITING_SCORE:\n",
      "0                    Siswa unggul di kedua bidang\n",
      "1                    Siswa unggul di kedua bidang\n",
      "2                    Siswa unggul di kedua bidang\n",
      "3      Siswa memerlukan perbaikan di kedua bidang\n",
      "4                    Siswa unggul di kedua bidang\n",
      "                          ...                    \n",
      "995                  Siswa unggul di kedua bidang\n",
      "996    Siswa memerlukan perbaikan di kedua bidang\n",
      "997                 Siswa unggul di reading_score\n",
      "998                  Siswa unggul di kedua bidang\n",
      "999                  Siswa unggul di kedua bidang\n",
      "Length: 1000, dtype: object\n"
     ]
    }
   ],
   "source": [
    "# Bab 3 No 2\n",
    "import pandas as pd\n",
    "data = pd.read_csv('Study_performance.csv')\n",
    "\n",
    "def evaluate_score(row):\n",
    "    if row['reading_score'] > 70 and row['writing_score'] > 70:\n",
    "        return \"Siswa unggul di kedua bidang\"\n",
    "    elif row['reading_score'] > 70:\n",
    "        return \"Siswa unggul di reading_score\"\n",
    "    elif row['writing_score'] > 70:\n",
    "        return \"Siswa unggul di writing_score\"\n",
    "    else:\n",
    "        return \"Siswa memerlukan perbaikan di kedua bidang\"\n",
    "\n",
    "hasil_analisa = data.apply(evaluate_score, axis=1)\n",
    "print(\"HASIL ANALISA READING_SCORE DAN WRITING_SCORE:\")\n",
    "print(hasil_analisa)"
   ]
  },
  {
   "cell_type": "code",
   "execution_count": 13,
   "metadata": {},
   "outputs": [
    {
     "name": "stdout",
     "output_type": "stream",
     "text": [
      "LIST KELAYAKAN SISWA MENERIMA BEASISWA:\n",
      "0      tidak layak (1/2)\n",
      "1      tidak layak (0/2)\n",
      "2      tidak layak (1/2)\n",
      "3      tidak layak (0/2)\n",
      "4      tidak layak (1/2)\n",
      "             ...        \n",
      "995    tidak layak (1/2)\n",
      "996    tidak layak (1/2)\n",
      "997    tidak layak (1/2)\n",
      "998    tidak layak (0/2)\n",
      "999    tidak layak (1/2)\n",
      "Length: 1000, dtype: object\n"
     ]
    }
   ],
   "source": [
    "# Bab 3 n0 3\n",
    "import pandas as pd\n",
    "data = pd.read_csv('Study_performance.csv')\n",
    "\n",
    "def evaluate_beasiswa(row):\n",
    "    kriteria_pendidikan = row['parental_level_of_education'] in ['high school','some high school']\n",
    "    kriteria_math_score = row['math_score'] >= 70\n",
    "    \n",
    "    if kriteria_pendidikan and kriteria_math_score:\n",
    "        return \"layak (2/2)\"\n",
    "    elif kriteria_pendidikan or kriteria_math_score:\n",
    "        return \"tidak layak (1/2)\"\n",
    "    else:\n",
    "        return \"tidak layak (0/2)\"\n",
    "            \n",
    "hasil_kelayakan = data.apply(evaluate_beasiswa, axis=1)\n",
    "print(\"LIST KELAYAKAN SISWA MENERIMA BEASISWA:\")\n",
    "print(hasil_kelayakan)"
   ]
  }
 ],
 "metadata": {
  "kernelspec": {
   "display_name": "Python 3",
   "language": "python",
   "name": "python3"
  },
  "language_info": {
   "codemirror_mode": {
    "name": "ipython",
    "version": 3
   },
   "file_extension": ".py",
   "mimetype": "text/x-python",
   "name": "python",
   "nbconvert_exporter": "python",
   "pygments_lexer": "ipython3",
   "version": "3.12.2"
  }
 },
 "nbformat": 4,
 "nbformat_minor": 2
}
