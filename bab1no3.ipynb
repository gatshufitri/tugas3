{
 "cells": [
  {
   "cell_type": "code",
   "execution_count": 12,
   "metadata": {},
   "outputs": [
    {
     "name": "stdout",
     "output_type": "stream",
     "text": [
      "Rata-rata score membaca: 69.169\n",
      "Rata-rata score menulis: 68.054\n"
     ]
    }
   ],
   "source": [
    "import pandas as pd\n",
    "\n",
    "df = pd.read_csv('study_performance.csv')\n",
    "\n",
    "rata_rata_membaca = df['reading_score'].mean()\n",
    "rata_rata_menulis = df['writing_score'].mean()\n",
    "\n",
    "print(\"Rata-rata score membaca:\", rata_rata_membaca)\n",
    "print(\"Rata-rata score menulis:\", rata_rata_menulis)\n"
   ]
  }
 ],
 "metadata": {
  "kernelspec": {
   "display_name": "Python 3",
   "language": "python",
   "name": "python3"
  },
  "language_info": {
   "codemirror_mode": {
    "name": "ipython",
    "version": 3
   },
   "file_extension": ".py",
   "mimetype": "text/x-python",
   "name": "python",
   "nbconvert_exporter": "python",
   "pygments_lexer": "ipython3",
   "version": "3.12.2"
  }
 },
 "nbformat": 4,
 "nbformat_minor": 2
}
