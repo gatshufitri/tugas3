{
 "cells": [
  {
   "cell_type": "code",
   "execution_count": 1,
   "metadata": {},
   "outputs": [
    {
     "name": "stdout",
     "output_type": "stream",
     "text": [
      "Variabel P =  True\n",
      "Variable Q =  False\n",
      "Variable R =  True\n",
      "P and Q  False\n",
      "P or Q True\n",
      "Not P False\n",
      "Not Q True\n",
      "P and R True\n",
      "P or R True\n"
     ]
    }
   ],
   "source": [
    "p = True\n",
    "q = False\n",
    "r = True\n",
    "\n",
    "print(\"Variabel P = \",p)\n",
    "print(\"Variable Q = \",q)\n",
    "print(\"Variable R = \",r)\n",
    "\n",
    "print(\"P\",p and \"and Q \",q)\n",
    "print(\"P or Q\",p or q)\n",
    "print(\"Not P\",not p)\n",
    "print(\"Not Q\",not q)\n",
    "print(\"P and R\",p and r)\n",
    "print(\"P or R\",p or r)"
   ]
  }
 ],
 "metadata": {
  "kernelspec": {
   "display_name": "Python 3",
   "language": "python",
   "name": "python3"
  },
  "language_info": {
   "codemirror_mode": {
    "name": "ipython",
    "version": 3
   },
   "file_extension": ".py",
   "mimetype": "text/x-python",
   "name": "python",
   "nbconvert_exporter": "python",
   "pygments_lexer": "ipython3",
   "version": "3.12.2"
  }
 },
 "nbformat": 4,
 "nbformat_minor": 2
}
