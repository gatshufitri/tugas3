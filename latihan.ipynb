{
 "cells": [
  {
   "cell_type": "code",
   "execution_count": 2,
   "metadata": {},
   "outputs": [
    {
     "name": "stdout",
     "output_type": "stream",
     "text": [
      "Nilai A tidak lebih besar dari B\n"
     ]
    }
   ],
   "source": [
    "a = input(\"Masukan Nilai Ke 1 :\")\n",
    "b = input(\"Masukan Nilai Ke 2 \")\n",
    "if a > b:\n",
    "    print(\"Nilai A tidak lebih besar dari B\")\n",
    "elif a < b :\n",
    "    print(\"Nilai A lebih kecil dari B\")    \n",
    "else :\n",
    "    print(\"Nilai tidak valid\")\n"
   ]
  },
  {
   "cell_type": "code",
   "execution_count": 4,
   "metadata": {},
   "outputs": [
    {
     "name": "stdout",
     "output_type": "stream",
     "text": [
      "umur tidak diketahui\n"
     ]
    }
   ],
   "source": [
    "umur = int(input(\"masukan umur anda : \"))\n",
    "pesan = input(\"apakah anda ingin memesan taxi ?(yes/no:)\")\n",
    "\n",
    "if umur > 18 :\n",
    "    if pesan == \"yes\":\n",
    "        print(\"siilahkan tunggu taxi nya datang\")\n",
    "    elif pesan == \"no\":\n",
    "        print(\"okey\")\n",
    "    else :\n",
    "        print(\"pilihan tidak valid\")\n",
    "else :\n",
    "    print(\"umur tidak diketahui\")"
   ]
  },
  {
   "cell_type": "code",
   "execution_count": 1,
   "metadata": {},
   "outputs": [
    {
     "name": "stdout",
     "output_type": "stream",
     "text": [
      "a : 0\n",
      "a : 1\n",
      "a : 2\n",
      "a : 3\n",
      "a : 4\n",
      "a : 5\n",
      "a : 6\n",
      "a : 7\n",
      "a : 8\n",
      "good bye!\n"
     ]
    }
   ],
   "source": [
    "a = 0\n",
    "while (a<9):\n",
    "    print(\"a :\",a)\n",
    "    a = a +1\n",
    "print(\"good bye!\")"
   ]
  },
  {
   "cell_type": "code",
   "execution_count": 2,
   "metadata": {},
   "outputs": [
    {
     "name": "stdout",
     "output_type": "stream",
     "text": [
      "anda di ijinkan menaiki wahana\n",
      "anda di ijinkan menaiki wahana\n",
      "umur tidak di ketahui\n",
      "umur tidak di ketahui\n",
      "anda di ijinkan menaiki wahana\n"
     ]
    }
   ],
   "source": [
    "\n",
    "for x in range(5):\n",
    "    a = input(\"masukan nama anda : \")\n",
    "    b = int(input(\"masukan umur anda : \"))\n",
    "    if b > 19:\n",
    "        print(\"anda di ijinkan menaiki wahana\")\n",
    "    elif b < 19:\n",
    "        print(\"anda tidak di ijinkan menaiki wahana ini\")\n",
    "    else:\n",
    "        print(\"umur tidak di ketahui\")"
   ]
  },
  {
   "cell_type": "code",
   "execution_count": 3,
   "metadata": {},
   "outputs": [
    {
     "name": "stdout",
     "output_type": "stream",
     "text": [
      "1\n",
      "2\n",
      "3\n",
      "4\n",
      "5\n",
      "6\n",
      "7\n",
      "8\n",
      "9\n",
      "10\n"
     ]
    }
   ],
   "source": [
    "nomor = 1\n",
    "while nomor <= 10:\n",
    "    print(nomor)\n",
    "    nomor += 1"
   ]
  },
  {
   "cell_type": "code",
   "execution_count": 6,
   "metadata": {},
   "outputs": [
    {
     "name": "stdout",
     "output_type": "stream",
     "text": [
      "*\n",
      "**\n",
      "***\n",
      "****\n",
      "*****\n"
     ]
    }
   ],
   "source": [
    "for i in range(5):\n",
    "    for j in range(i + 1):\n",
    "        print(\"*\",end=\"\")\n",
    "    print()"
   ]
  }
 ],
 "metadata": {
  "kernelspec": {
   "display_name": "Python 3",
   "language": "python",
   "name": "python3"
  },
  "language_info": {
   "codemirror_mode": {
    "name": "ipython",
    "version": 3
   },
   "file_extension": ".py",
   "mimetype": "text/x-python",
   "name": "python",
   "nbconvert_exporter": "python",
   "pygments_lexer": "ipython3",
   "version": "3.12.2"
  }
 },
 "nbformat": 4,
 "nbformat_minor": 2
}
