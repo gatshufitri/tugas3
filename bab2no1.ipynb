{
 "cells": [
  {
   "cell_type": "code",
   "execution_count": 3,
   "metadata": {},
   "outputs": [
    {
     "name": "stdout",
     "output_type": "stream",
     "text": [
      "10.0 + 10.0 = 20.0\n",
      "+ 10.0 = 10.0\n",
      "10.0 - 10.0 = 0.0\n",
      "- 10.0 = -10.0\n",
      "10.0 * 10.0 = 100.0\n",
      "10.0 : 10.0 = 1.0\n",
      "10.0 % 10.0 = 0.0\n",
      "10.0 ** 10.0 = 10000000000.0\n"
     ]
    }
   ],
   "source": [
    "bilangan1 = float(input(\"Masukan Bilangan Pertama : \"))\n",
    "bilangan2 = float(input(\"Masukan Bilangan Kedua : \"))\n",
    "\n",
    "operator_tambah = bilangan1+bilangan2\n",
    "operator_unary_tambah = +bilangan1 \n",
    "operator_kurang = bilangan1-bilangan2\n",
    "operator_unary_kurang = -bilangan1\n",
    "operator_perkalian = bilangan1*bilangan2\n",
    "operator_pembagian = bilangan1/bilangan2\n",
    "operator_modulo = bilangan1%bilangan2\n",
    "operator_pangkat = bilangan1**bilangan2\n",
    "\n",
    "print(bilangan1,\"+\",bilangan2,\"=\",operator_tambah)\n",
    "print(\"+\",bilangan1,\"=\",operator_unary_tambah)\n",
    "print(bilangan1,\"-\",bilangan2,\"=\",operator_kurang)\n",
    "print(\"-\",bilangan1,\"=\",operator_unary_kurang)\n",
    "print(bilangan1,\"*\",bilangan2,\"=\",operator_perkalian)\n",
    "print(bilangan1,\":\",bilangan2,\"=\",operator_pembagian)\n",
    "print(bilangan1,\"%\",bilangan2,\"=\",operator_modulo)\n",
    "print(bilangan1,\"**\",bilangan2,\"=\",operator_pangkat)\n"
   ]
  }
 ],
 "metadata": {
  "kernelspec": {
   "display_name": "Python 3",
   "language": "python",
   "name": "python3"
  },
  "language_info": {
   "codemirror_mode": {
    "name": "ipython",
    "version": 3
   },
   "file_extension": ".py",
   "mimetype": "text/x-python",
   "name": "python",
   "nbconvert_exporter": "python",
   "pygments_lexer": "ipython3",
   "version": "3.12.2"
  }
 },
 "nbformat": 4,
 "nbformat_minor": 2
}
