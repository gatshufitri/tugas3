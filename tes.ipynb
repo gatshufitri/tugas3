{
 "cells": [
  {
   "cell_type": "code",
   "execution_count": 2,
   "metadata": {},
   "outputs": [
    {
     "name": "stdout",
     "output_type": "stream",
     "text": [
      "Hasil penjumlahan: 22.0\n"
     ]
    }
   ],
   "source": [
    "# Minta pengguna untuk memasukkan dua bilangan pecahan\n",
    "bilangan1 = float(input(\"Masukkan bilangan pertama (pecahan): \"))\n",
    "bilangan2 = float(input(\"Masukkan bilangan kedua (pecahan): \"))\n",
    "\n",
    "# Hitung dan tampilkan hasil penjumlahan\n",
    "hasil = bilangan1 + bilangan2\n",
    "print(\"Hasil penjumlahan:\", hasil)\n"
   ]
  }
 ],
 "metadata": {
  "kernelspec": {
   "display_name": "Python 3",
   "language": "python",
   "name": "python3"
  },
  "language_info": {
   "codemirror_mode": {
    "name": "ipython",
    "version": 3
   },
   "file_extension": ".py",
   "mimetype": "text/x-python",
   "name": "python",
   "nbconvert_exporter": "python",
   "pygments_lexer": "ipython3",
   "version": "3.12.2"
  }
 },
 "nbformat": 4,
 "nbformat_minor": 2
}
