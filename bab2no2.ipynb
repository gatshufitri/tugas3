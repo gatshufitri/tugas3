{
 "cells": [
  {
   "cell_type": "code",
   "execution_count": 3,
   "metadata": {},
   "outputs": [
    {
     "name": "stdout",
     "output_type": "stream",
     "text": [
      "Jumlah Nilai: \n",
      "0      218\n",
      "1      247\n",
      "2      278\n",
      "3      148\n",
      "4      229\n",
      "      ... \n",
      "995    282\n",
      "996    172\n",
      "997    195\n",
      "998    223\n",
      "999    249\n",
      "Length: 1000, dtype: int64\n"
     ]
    }
   ],
   "source": [
    "import pandas as pd\n",
    "\n",
    "df = pd.read_csv('study_performance.csv')\n",
    "total_score = df[['math_score','reading_score','writing_score']].sum(axis=1)\n",
    "\n",
    "print(\"Jumlah Nilai: \")\n",
    "print(total_score)"
   ]
  }
 ],
 "metadata": {
  "kernelspec": {
   "display_name": "Python 3",
   "language": "python",
   "name": "python3"
  },
  "language_info": {
   "codemirror_mode": {
    "name": "ipython",
    "version": 3
   },
   "file_extension": ".py",
   "mimetype": "text/x-python",
   "name": "python",
   "nbconvert_exporter": "python",
   "pygments_lexer": "ipython3",
   "version": "3.12.2"
  }
 },
 "nbformat": 4,
 "nbformat_minor": 2
}
