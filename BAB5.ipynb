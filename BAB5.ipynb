{
 "cells": [
  {
   "cell_type": "code",
   "execution_count": 1,
   "metadata": {},
   "outputs": [
    {
     "name": "stdout",
     "output_type": "stream",
     "text": [
      "     gender race_ethnicity parental_level_of_education         lunch\n",
      "3      male        group A          associate's degree  free/reduced\n",
      "7      male        group B                some college  free/reduced\n",
      "8      male        group D                 high school  free/reduced\n",
      "9    female        group B                 high school  free/reduced\n",
      "17   female        group B            some high school  free/reduced\n",
      "..      ...            ...                         ...           ...\n",
      "992  female        group D          associate's degree  free/reduced\n",
      "993  female        group D           bachelor's degree  free/reduced\n",
      "996    male        group C                 high school  free/reduced\n",
      "997  female        group C                 high school  free/reduced\n",
      "999  female        group D                some college  free/reduced\n",
      "\n",
      "[355 rows x 4 columns]\n"
     ]
    }
   ],
   "source": [
    "import pandas as pd\n",
    "\n",
    "data = pd.read_csv('study_performance.csv')\n",
    "\n",
    "delete_data = data[(data['race_ethnicity'] != \"standard\") & \n",
    "                         (data['parental_level_of_education'] != \"standard\") & \n",
    "                         (data['test_preparation_course'] != \"standard\") &\n",
    "                         (data[\"lunch\"] == \"free/reduced\")]\n",
    "\n",
    "delete_data = delete_data[['gender', 'race_ethnicity', 'parental_level_of_education', 'lunch']]\n",
    "delete_data.to_csv('hasil_olahan.csv', index=False)\n",
    "\n",
    "print(delete_data)"
   ]
  },
  {
   "cell_type": "code",
   "execution_count": 2,
   "metadata": {},
   "outputs": [
    {
     "name": "stdout",
     "output_type": "stream",
     "text": [
      "gender                                         male\n",
      "race_ethnicity                              group E\n",
      "parental_level_of_education      associate's degree\n",
      "lunch                                  free/reduced\n",
      "test_preparation_course                   completed\n",
      "math_score                                      100\n",
      "reading_score                                   100\n",
      "writing_score                                    93\n"
     ]
    }
   ],
   "source": [
    "import pandas as pd\n",
    "\n",
    "data = pd.read_csv('study_performance.csv')\n",
    "\n",
    "nilai_tertinggi_math = data['math_score'].max()\n",
    "data_nilai_tertinggi_math = data[data['math_score'] == nilai_tertinggi_math].iloc[0]\n",
    "\n",
    "columns_to_print = ['gender', 'race_ethnicity', 'parental_level_of_education', 'lunch',\n",
    "                    'test_preparation_course', 'math_score', 'reading_score', 'writing_score']\n",
    "\n",
    "for column in columns_to_print:\n",
    "    print(f\"{column:<30} {data_nilai_tertinggi_math[column]:>20}\")"
   ]
  },
  {
   "cell_type": "code",
   "execution_count": 3,
   "metadata": {},
   "outputs": [
    {
     "name": "stdout",
     "output_type": "stream",
     "text": [
      "gender                                       female\n",
      "race_ethnicity                              group C\n",
      "parental_level_of_education        some high school\n",
      "lunch                                  free/reduced\n",
      "test_preparation_course                        none\n",
      "math_score                                        0\n",
      "reading_score                                    17\n",
      "writing_score                                    10\n"
     ]
    }
   ],
   "source": [
    "import pandas as pd\n",
    "\n",
    "data = pd.read_csv('study_performance.csv')\n",
    "\n",
    "nilai_terendah_writing = data['writing_score'].idxmin()\n",
    "data_nilai_terendah_writing = data.loc[nilai_terendah_writing]\n",
    "\n",
    "labels = ['gender', 'race_ethnicity', 'parental_level_of_education', 'lunch', \n",
    "          'test_preparation_course', 'math_score', 'reading_score', 'writing_score']\n",
    "for label in labels:\n",
    "    print(f\"{label:<30} {data_nilai_terendah_writing[label]:>20}\")"
   ]
  }
 ],
 "metadata": {
  "kernelspec": {
   "display_name": "jupyter_notebook",
   "language": "python",
   "name": "python3"
  },
  "language_info": {
   "codemirror_mode": {
    "name": "ipython",
    "version": 3
   },
   "file_extension": ".py",
   "mimetype": "text/x-python",
   "name": "python",
   "nbconvert_exporter": "python",
   "pygments_lexer": "ipython3",
   "version": "3.12.2"
  }
 },
 "nbformat": 4,
 "nbformat_minor": 2
}
