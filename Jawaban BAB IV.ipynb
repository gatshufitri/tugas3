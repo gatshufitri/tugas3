{
 "cells": [
  {
   "cell_type": "code",
   "execution_count": 1,
   "metadata": {},
   "outputs": [
    {
     "name": "stdout",
     "output_type": "stream",
     "text": [
      "   gender race_ethnicity parental_level_of_education         lunch  \\\n",
      "0  female        group B           bachelor's degree      standard   \n",
      "1  female        group C                some college      standard   \n",
      "2  female        group B             master's degree      standard   \n",
      "3  female        group B          associate's degree      standard   \n",
      "4  female        group B                some college      standard   \n",
      "5  female        group B                 high school  free/reduced   \n",
      "6  female        group B                 high school      standard   \n",
      "7  female        group A             master's degree      standard   \n",
      "8  female        group C            some high school      standard   \n",
      "9  female        group B            some high school  free/reduced   \n",
      "\n",
      "  test_preparation_course  math_score  reading_score  writing_score  \n",
      "0                    none          72             72             74  \n",
      "1               completed          69             90             88  \n",
      "2                    none          90             95             93  \n",
      "3                    none          71             83             78  \n",
      "4               completed          88             95             92  \n",
      "5                    none          38             60             50  \n",
      "6                    none          65             81             73  \n",
      "7                    none          50             53             58  \n",
      "8                    none          69             75             78  \n",
      "9                    none          18             32             28  \n"
     ]
    }
   ],
   "source": [
    "import pandas as pd\n",
    "\n",
    "data = pd.read_csv('study_performance.csv')\n",
    "filter_data = data[data['gender'] == 'female'].iloc[:10].reset_index(drop=True)\n",
    "print(filter_data)\n"
   ]
  },
  {
   "cell_type": "code",
   "execution_count": 3,
   "metadata": {},
   "outputs": [
    {
     "name": "stdout",
     "output_type": "stream",
     "text": [
      "   gender race_ethnicity parental_level_of_education         lunch  \\\n",
      "0  female        group B           bachelor's degree      standard   \n",
      "1  female        group C                some college      standard   \n",
      "2  female        group B             master's degree      standard   \n",
      "3  female        group B          associate's degree      standard   \n",
      "4  female        group B                some college      standard   \n",
      "5  female        group B                 high school  free/reduced   \n",
      "6  female        group B                 high school      standard   \n",
      "7  female        group A             master's degree      standard   \n",
      "8  female        group C            some high school      standard   \n",
      "9  female        group B            some high school  free/reduced   \n",
      "\n",
      "  test_preparation_course  math_score  reading_score  writing_score  \n",
      "0                    none          72             72             74  \n",
      "1               completed          69             90             88  \n",
      "2                    none          90             95             93  \n",
      "3                    none          71             83             78  \n",
      "4               completed          88             95             92  \n",
      "5                    none          38             60             50  \n",
      "6                    none          65             81             73  \n",
      "7                    none          50             53             58  \n",
      "8                    none          69             75             78  \n",
      "9                    none          18             32             28  \n"
     ]
    }
   ],
   "source": [
    "import pandas as pd\n",
    "\n",
    "data = pd.read_csv('study_performance.csv')\n",
    "filter_data = []\n",
    "for index, row in data.iterrows():\n",
    "    if row['gender'] == 'female':\n",
    "        filter_data.append(row)\n",
    "    elif len(filter_data) >= 10:\n",
    "        break\n",
    "filter_data = pd.DataFrame(filter_data)\n",
    "filter_data = filter_data.reset_index(drop=True)\n",
    "print(filter_data)\n"
   ]
  },
  {
   "cell_type": "code",
   "execution_count": 4,
   "metadata": {},
   "outputs": [
    {
     "name": "stdout",
     "output_type": "stream",
     "text": [
      "Total nilai matematika dari group A :\n",
      "untuk laki-laki adalah 3378\n",
      "untuk perempuan adalah 2107\n"
     ]
    }
   ],
   "source": [
    "# Bab 4 no 2\n",
    "import pandas as pd\n",
    "data = pd.read_csv('Study_performance.csv')\n",
    "total_mtk_male = 0\n",
    "total_mtk_female = 0\n",
    "i = 0\n",
    "while i < len(data):\n",
    "    group = data.loc[i, 'race_ethnicity']\n",
    "    gender = data.loc[i, 'gender']\n",
    "    if group == 'group A' and gender in ['male', 'female']:\n",
    "        if gender == 'male':\n",
    "            total_mtk_male += data.loc[i, 'math_score']\n",
    "        elif gender == 'female':\n",
    "            total_mtk_female += data.loc[i, 'math_score']\n",
    "    i += 1\n",
    "\n",
    "print(\"Total nilai matematika dari group A :\")\n",
    "print(\"untuk laki-laki adalah\",total_mtk_male)\n",
    "print(f\"untuk perempuan adalah\",total_mtk_female)\n"
   ]
  },
  {
   "cell_type": "code",
   "execution_count": 2,
   "metadata": {},
   "outputs": [
    {
     "data": {
      "image/png": "[encoded data removed]",
      "text/plain": [
       "<Figure size 300x350 with 1 Axes>"
      ]
     },
     "metadata": {},
     "output_type": "display_data"
    }
   ],
   "source": [
    "# Bab 4 no 3\n",
    "import pandas as pd\n",
    "import matplotlib.pyplot as plt\n",
    "data = pd.read_csv('Study_performance.csv')\n",
    "math = (data['math_score'] > 65).sum()\n",
    "reading = (data['reading_score'] > 65).sum()\n",
    "writing = (data['writing_score'] > 65).sum()\n",
    "labels = ['Math', 'reading', 'writing']\n",
    "sizes = [math, reading, writing]\n",
    "colors = ['#0000FE','#008001','#FEA500']\n",
    "plt.figure(figsize=(3, 3.5))\n",
    "plt.pie(sizes, labels=labels, autopct='%1.1f%%', startangle=140, colors=colors)\n",
    "plt.title('Presentase Nilai di Atas 65 pada Mata Pelajaran')\n",
    "plt.axis('equal')\n",
    "plt.show()\n"
   ]
  }
 ],
 "metadata": {
  "kernelspec": {
   "display_name": "Python 3",
   "language": "python",
   "name": "python3"
  },
  "language_info": {
   "codemirror_mode": {
    "name": "ipython",
    "version": 3
   },
   "file_extension": ".py",
   "mimetype": "text/x-python",
   "name": "python",
   "nbconvert_exporter": "python",
   "pygments_lexer": "ipython3",
   "version": "3.12.2"
  }
 },
 "nbformat": 4,
 "nbformat_minor": 2
}
