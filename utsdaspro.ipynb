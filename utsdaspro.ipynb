{
 "cells": [
  {
   "cell_type": "code",
   "execution_count": 1,
   "metadata": {},
   "outputs": [
    {
     "name": "stdout",
     "output_type": "stream",
     "text": [
      "1,3,5,7,9,11,13,15,17,19,21,"
     ]
    }
   ],
   "source": [
    "#soal1\n",
    "for x in range (22):\n",
    "    if x % 2 != 0:\n",
    "        print(x,end=',')"
   ]
  },
  {
   "cell_type": "code",
   "execution_count": 2,
   "metadata": {},
   "outputs": [
    {
     "name": "stdout",
     "output_type": "stream",
     "text": [
      "['Selamat', 'anda', 'berhasil', 'mengerjakan', 'soal', 'ini']\n"
     ]
    }
   ],
   "source": [
    "#soal2\n",
    "list1 = ['Se','an','ber','menger','so','in']\n",
    "list2 = ['lamat','da','hasil','jakan','al','i']\n",
    "tampil =[]\n",
    "for i in range(len(list1)):\n",
    "    tampil.append(list1[i]+list2[i])\n",
    "print(tampil)"
   ]
  },
  {
   "cell_type": "code",
   "execution_count": 3,
   "metadata": {},
   "outputs": [
    {
     "name": "stdout",
     "output_type": "stream",
     "text": [
      "Saya telah mengerjakan dan menyelesaikan semua soal ujian\n"
     ]
    }
   ],
   "source": [
    "#soal3\n",
    "kalimat = \"Hari ini saya sedang mengerjakan ujian daspro\"\n",
    "manipulasi = kalimat.replace(\"Hari ini saya sedang mengerjakan ujian daspro\",\"Saya telah mengerjakan dan menyelesaikan semua soal ujian\")\n",
    "kalimat_baru = manipulasi\n",
    "print(kalimat_baru)"
   ]
  },
  {
   "cell_type": "code",
   "execution_count": 4,
   "metadata": {},
   "outputs": [
    {
     "name": "stdout",
     "output_type": "stream",
     "text": [
      "hasil Binner 0b1100 adalah 0b1100 dengan nilai boolean True\n"
     ]
    }
   ],
   "source": [
    "#soal4\n",
    "nilai1 = 3\n",
    "nilai2 = 2\n",
    "operator1 = nilai1 << nilai2\n",
    "haasil1 = bin(operator1)\n",
    "hasil2 = bool(operator1)\n",
    "print(f\"hasil Binner {haasil1} adalah {haasil1} dengan nilai boolean {hasil2}\")"
   ]
  },
  {
   "cell_type": "code",
   "execution_count": 9,
   "metadata": {},
   "outputs": [
    {
     "name": "stdout",
     "output_type": "stream",
     "text": [
      "======Selamat Datang=====\n",
      "Pilihan Konversi:\n",
      "    1.Binner\n",
      "    2.Oktal\n",
      "    3.Desimal\n",
      "    4.hexadesimal\n",
      "    5.Tampilkan semua\n",
      "Konversi1ke binner = 0b1\n"
     ]
    }
   ],
   "source": [
    "#soal5\n",
    "print(\"======Selamat Datang=====\")\n",
    "print('''Pilihan Konversi:\n",
    "    1.Binner\n",
    "    2.Oktal\n",
    "    3.Desimal\n",
    "    4.hexadesimal\n",
    "    5.Tampilkan semua''')\n",
    "angka=int(input(\"masukan pilihan 1/2/3/4/5:\"))\n",
    "angaka1=int(input(\"masukan angka yang ingin di konversi:\"))\n",
    "if angka == 1:\n",
    "    hasil = bin(angka)\n",
    "    print(f\"Konversi{angka}ke binner =\",hasil)\n",
    "elif angka == 2:\n",
    "    hasil = oct(angka)\n",
    "    print(f\"Konversi{angka}ke oktal =\",hasil)\n",
    "elif angka == 3:\n",
    "    hasil = int(angka)\n",
    "    print(f\"Konversi{angka}ke desimal =\",hasil)\n",
    "elif angka == 4:\n",
    "    hasil = hex(angka)\n",
    "    print(f\"Konversi{angka}ke hexadesimal =\",hasil)\n",
    "elif angka == 5:\n",
    "    hasil = bin(angka)\n",
    "    hasil = oct(angka)\n",
    "    hasil = int(angka)\n",
    "    hasil = hex(angka)\n",
    "    print('''f\\nHasil:\n",
    "          KOnversi {angka}ke binner = {hasil}\n",
    "          konversi {angka} ke oktal ={hasil}\n",
    "          Konversi {angka}ke decimal ={hasil}\n",
    "          konversi {angka}ke hexadesimal={hasil}''')\n",
    "else:\n",
    "    print(\"Angka tidak valid\")"
   ]
  },
  {
   "cell_type": "code",
   "execution_count": 10,
   "metadata": {},
   "outputs": [
    {
     "name": "stdout",
     "output_type": "stream",
     "text": [
      "*\n",
      "**\n",
      "***\n",
      "****\n",
      "*****\n",
      "****\n",
      "***\n",
      "**\n",
      "*\n"
     ]
    }
   ],
   "source": [
    "#soal6\n",
    "def tampilkan_pola(des):\n",
    "    for i in range(1,des+1):\n",
    "        for j in range(1,i+1):\n",
    "            print(\"*\",end=\"\")\n",
    "        print()\n",
    "    for i in range(des -1,0,-1):\n",
    "        for j in range(1,i+1):\n",
    "            print(\"*\",end=\"\")\n",
    "        print()\n",
    "baris = 5\n",
    "tampilkan_pola(baris)"
   ]
  },
  {
   "cell_type": "code",
   "execution_count": 11,
   "metadata": {},
   "outputs": [
    {
     "name": "stdout",
     "output_type": "stream",
     "text": [
      "Nama : gatshu\n",
      "Umur : 19\n",
      "Tinggi badan : 175.0 cm\n",
      "Berat badan : 55.0 kg\n"
     ]
    }
   ],
   "source": [
    "#soal7\n",
    "nama = input(\"masukan nama anda:\")\n",
    "umur = input(\"masukan umur anda:\")\n",
    "tb = float(input(\"masukan tingga badan anda:\"))\n",
    "bb = float(input(\"masukan berat badan anda :\"))\n",
    "print(\"Nama :\",nama)\n",
    "print(\"Umur :\",umur)\n",
    "print(\"Tinggi badan :\",tb,\"cm\")\n",
    "print(\"Berat badan :\",bb,\"kg\")"
   ]
  },
  {
   "cell_type": "code",
   "execution_count": 12,
   "metadata": {},
   "outputs": [
    {
     "name": "stdout",
     "output_type": "stream",
     "text": [
      "Angka :10\n",
      "Angka :7\n",
      "Angka :20\n",
      "Angka :50\n",
      "Angka :49\n",
      "Angka :22\n",
      "Angka :44\n"
     ]
    }
   ],
   "source": [
    "#soal8\n",
    "angka = [10,7,20,50,49,22,44]\n",
    "for x in angka:\n",
    "    print(f\"Angka :{x}\")"
   ]
  },
  {
   "cell_type": "code",
   "execution_count": 15,
   "metadata": {},
   "outputs": [
    {
     "name": "stdout",
     "output_type": "stream",
     "text": [
      "Menu pilihan:\n",
      "      1.Penjumlahan\n",
      "      2.Pengurangan\n",
      "      3.Perkalian\n",
      "      4.Pembagian\n",
      "      5.Modulus\n",
      "Hasil dari 1-1=0\n"
     ]
    }
   ],
   "source": [
    "#soal9\n",
    "a= int(input(\"Masukan Nilai ke 1:\"))\n",
    "b = int(input(\"masukan nilai ke 2:\"))\n",
    "def penjumlahan(a,b):\n",
    "    hasil(a+b)\n",
    "    print(f\"Hasil dari {a}+{b}={hasil}\")\n",
    "def pengurangan(a,b):\n",
    "    hasil = (a-b)\n",
    "    print(f\"Hasil dari {a}-{b}={hasil}\")\n",
    "def perkalian(a,b):\n",
    "    hasil = (a*b)\n",
    "    print(f\"Hasil dari {a}X{b}={hasil}\")\n",
    "def pembagian(a,b):\n",
    "    hasil = (a/b)\n",
    "    print(f\"Hasil dari {a}:{b}={hasil}\")\n",
    "def modulus(a,b):\n",
    "    hasil = (a-b)\n",
    "    print(f\"Hasil dari {a}-{b}={hasil}\")\n",
    "print('''Menu pilihan:\n",
    "      1.Penjumlahan\n",
    "      2.Pengurangan\n",
    "      3.Perkalian\n",
    "      4.Pembagian\n",
    "      5.Modulus''')\n",
    "pilihan = int(input(\"masukan pilihan 1/2/3/4/5:\"))\n",
    "if pilihan == 1:\n",
    "    penjumlahan(a,b)\n",
    "elif pilihan == 2:\n",
    "    pengurangan(a,b)\n",
    "elif pilihan == 3:\n",
    "    perkalian(a,b)\n",
    "elif pilihan == 4:\n",
    "    pembagian(a,b)\n",
    "elif pilihan == 5:\n",
    "    modulus(a,b)\n",
    "else:\n",
    "    (\"Tidak valid\")"
   ]
  },
  {
   "cell_type": "code",
   "execution_count": 16,
   "metadata": {},
   "outputs": [
    {
     "name": "stdout",
     "output_type": "stream",
     "text": [
      "10\n",
      "20\n",
      "30\n",
      "40\n",
      "50\n",
      "60\n"
     ]
    }
   ],
   "source": [
    "#soal10\n",
    "def sorts(*f):\n",
    "    a=(f)\n",
    "    for x in a:\n",
    "        print(x)\n",
    "sorts(10,20,30)\n",
    "sorts(40,50,60)"
   ]
  }
 ],
 "metadata": {
  "kernelspec": {
   "display_name": "Python 3",
   "language": "python",
   "name": "python3"
  },
  "language_info": {
   "codemirror_mode": {
    "name": "ipython",
    "version": 3
   },
   "file_extension": ".py",
   "mimetype": "text/x-python",
   "name": "python",
   "nbconvert_exporter": "python",
   "pygments_lexer": "ipython3",
   "version": "3.12.2"
  }
 },
 "nbformat": 4,
 "nbformat_minor": 2
}
